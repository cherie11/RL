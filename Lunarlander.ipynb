{
 "cells": [
  {
   "cell_type": "markdown",
   "metadata": {},
   "source": [
    "## Extra : Solve the LunarLander-v2 \n",
    "--------\n",
    "Landing pad is always at coordinates (0,0). Coordinates are the first two numbers in state vector. Reward for moving from the top of the screen to landing pad and zero speed is about 100..140 points. If lander moves away from landing pad it loses reward back. Episode finishes if the lander crashes or comes to rest, receiving additional -100 or +100 points. Each leg ground contact is +10. Firing main engine is -0.3 points each frame. Solved is 200 points. Landing outside landing pad is possible. Fuel is infinite, so an agent can learn to fly and then land on its first attempt. Four discrete actions available: do nothing, fire left orientation engine, fire main engine, fire right orientation engine.\n",
    "\n",
    "------\n",
    "* Using the DQN to solve this problem using the experience relay and fully connected network\n"
   ]
  },
  {
   "cell_type": "code",
   "execution_count": 2,
   "metadata": {},
   "outputs": [
    {
     "name": "stderr",
     "output_type": "stream",
     "text": [
      "[2017-12-01 15:37:58,812] Making new env: LunarLander-v2\n",
      "[2017-12-01 15:37:58,873] Clearing 26 monitor files from previous run (because force=True was provided)\n"
     ]
    },
    {
     "name": "stdout",
     "output_type": "stream",
     "text": [
      "Loading Model...\n",
      "INFO:tensorflow:Restoring parameters from ./dqn/model-0.ckpt\n"
     ]
    },
    {
     "name": "stderr",
     "output_type": "stream",
     "text": [
      "[2017-12-01 15:37:59,433] Restoring parameters from ./dqn/model-0.ckpt\n",
      "[2017-12-01 15:37:59,457] Starting new video recorder writing to /Users/cheriewang/Desktop/SRTP/openaigym.video.0.498.video000000.mp4\n"
     ]
    },
    {
     "name": "stdout",
     "output_type": "stream",
     "text": [
      "Saved Model\n",
      "Episode 9 reward: -230.438692021\n",
      "Episode 19 reward: -233.371149869\n",
      "Episode 29 reward: -254.907113806\n",
      "Episode 39 reward: -302.436482756\n",
      "Episode 49 reward: -202.264671385\n",
      "Episode 59 reward: -278.709826842\n",
      "Episode 69 reward: -245.303093906\n",
      "Episode 79 reward: -219.779164558\n"
     ]
    },
    {
     "name": "stderr",
     "output_type": "stream",
     "text": [
      "[2017-12-01 15:38:04,201] Starting new video recorder writing to /Users/cheriewang/Desktop/SRTP/openaigym.video.0.498.video000100.mp4\n"
     ]
    },
    {
     "name": "stdout",
     "output_type": "stream",
     "text": [
      "Episode 89 reward: -188.694865063\n",
      "Episode 99 reward: -207.626461367\n",
      "Episode 109 reward: -231.90454562\n",
      "Episode 119 reward: -289.935099404\n",
      "Episode 129 reward: -251.398033506\n",
      "Episode 139 reward: -219.922521614\n",
      "Episode 149 reward: -206.923378492\n",
      "Episode 159 reward: -245.209141309\n",
      "Episode 169 reward: -427.297580459\n",
      "Episode 179 reward: -84.584070473\n",
      "Episode 189 reward: -167.319780512\n"
     ]
    },
    {
     "name": "stderr",
     "output_type": "stream",
     "text": [
      "[2017-12-01 15:39:49,362] Starting new video recorder writing to /Users/cheriewang/Desktop/SRTP/openaigym.video.0.498.video000200.mp4\n"
     ]
    },
    {
     "name": "stdout",
     "output_type": "stream",
     "text": [
      "Episode 199 reward: -85.0803896385\n",
      "Episode 209 reward: -117.406355101\n",
      "Episode 219 reward: -113.805099367\n",
      "Episode 229 reward: -191.348127156\n",
      "Episode 239 reward: -95.6445750564\n",
      "Episode 249 reward: -121.145958965\n",
      "Episode 259 reward: -125.968628342\n",
      "Episode 269 reward: -140.051496929\n",
      "Episode 279 reward: -181.451398339\n",
      "Episode 289 reward: -148.376631589\n"
     ]
    },
    {
     "name": "stderr",
     "output_type": "stream",
     "text": [
      "[2017-12-01 15:45:51,042] Starting new video recorder writing to /Users/cheriewang/Desktop/SRTP/openaigym.video.0.498.video000300.mp4\n"
     ]
    },
    {
     "name": "stdout",
     "output_type": "stream",
     "text": [
      "Episode 299 reward: -139.580908981\n",
      "Episode 309 reward: -158.715636661\n",
      "Episode 319 reward: -159.618477876\n",
      "Episode 329 reward: -59.5134346412\n",
      "Episode 339 reward: -79.7185386111\n",
      "Episode 349 reward: -67.260524884\n",
      "Episode 359 reward: -41.7719288129\n",
      "Episode 369 reward: -72.4064824821\n",
      "Episode 379 reward: 5.999027286\n",
      "Episode 389 reward: -53.0883626375\n"
     ]
    },
    {
     "name": "stderr",
     "output_type": "stream",
     "text": [
      "[2017-12-01 15:50:37,124] Starting new video recorder writing to /Users/cheriewang/Desktop/SRTP/openaigym.video.0.498.video000400.mp4\n"
     ]
    },
    {
     "name": "stdout",
     "output_type": "stream",
     "text": [
      "Episode 399 reward: 14.7771821092\n",
      "Episode 409 reward: -47.1138182531\n",
      "Episode 419 reward: -71.5366840334\n",
      "Episode 429 reward: -55.928990606\n",
      "Episode 439 reward: -63.1138896811\n",
      "Episode 449 reward: -44.1756897114\n",
      "Episode 459 reward: 6.51802042099\n",
      "Episode 469 reward: -61.6014491135\n",
      "Episode 479 reward: -64.0623648939\n",
      "Episode 489 reward: -101.116359647\n"
     ]
    },
    {
     "name": "stderr",
     "output_type": "stream",
     "text": [
      "[2017-12-01 15:55:56,074] Starting new video recorder writing to /Users/cheriewang/Desktop/SRTP/openaigym.video.0.498.video000500.mp4\n"
     ]
    },
    {
     "name": "stdout",
     "output_type": "stream",
     "text": [
      "Episode 499 reward: -88.980538127\n",
      "Episode 509 reward: -117.464364717\n",
      "Episode 519 reward: -106.758656076\n",
      "Episode 529 reward: -120.856939225\n",
      "Episode 539 reward: -89.8910278456\n",
      "Episode 549 reward: -121.952414425\n",
      "Episode 559 reward: -113.515136832\n",
      "Episode 569 reward: -99.5749241339\n",
      "Episode 579 reward: -108.93664597\n",
      "Episode 589 reward: -97.7349597568\n"
     ]
    },
    {
     "name": "stderr",
     "output_type": "stream",
     "text": [
      "[2017-12-01 16:02:09,419] Starting new video recorder writing to /Users/cheriewang/Desktop/SRTP/openaigym.video.0.498.video000600.mp4\n"
     ]
    },
    {
     "name": "stdout",
     "output_type": "stream",
     "text": [
      "Episode 599 reward: -105.249276754\n",
      "Episode 609 reward: -103.858382283\n",
      "Episode 619 reward: -89.8024893255\n",
      "Episode 629 reward: -85.4623779937\n",
      "Episode 639 reward: -78.8202517048\n",
      "Episode 649 reward: -92.9287180227\n",
      "Episode 659 reward: -85.7724815431\n",
      "Episode 669 reward: -78.9717820205\n",
      "Episode 679 reward: -95.297575992\n",
      "Episode 689 reward: -66.100500247\n"
     ]
    },
    {
     "name": "stderr",
     "output_type": "stream",
     "text": [
      "[2017-12-01 16:08:25,372] Starting new video recorder writing to /Users/cheriewang/Desktop/SRTP/openaigym.video.0.498.video000700.mp4\n"
     ]
    },
    {
     "name": "stdout",
     "output_type": "stream",
     "text": [
      "Episode 699 reward: -64.9480665386\n",
      "Episode 709 reward: -64.8238650142\n",
      "Episode 719 reward: -62.339163966\n",
      "Episode 729 reward: -138.311485839\n",
      "Episode 739 reward: -31.2849545277\n",
      "Episode 749 reward: -63.9078021379\n",
      "Episode 759 reward: -15.2140953326\n",
      "Episode 769 reward: 1.55241984896\n",
      "Episode 779 reward: 25.8937363909\n",
      "Episode 789 reward: -6.79122400605\n"
     ]
    },
    {
     "name": "stderr",
     "output_type": "stream",
     "text": [
      "[2017-12-01 16:13:40,677] Starting new video recorder writing to /Users/cheriewang/Desktop/SRTP/openaigym.video.0.498.video000800.mp4\n"
     ]
    },
    {
     "name": "stdout",
     "output_type": "stream",
     "text": [
      "Episode 799 reward: -60.6754503755\n",
      "Episode 809 reward: -49.3285630885\n",
      "Episode 819 reward: 20.8642854434\n",
      "Episode 829 reward: 16.6550259027\n",
      "Episode 839 reward: 113.409572178\n",
      "Episode 849 reward: 41.191105\n",
      "Episode 859 reward: 69.9401897517\n",
      "Episode 869 reward: 167.243331302\n",
      "Episode 879 reward: 73.9742485668\n",
      "Episode 889 reward: -27.2668935736\n"
     ]
    },
    {
     "name": "stderr",
     "output_type": "stream",
     "text": [
      "[2017-12-01 16:17:56,878] Starting new video recorder writing to /Users/cheriewang/Desktop/SRTP/openaigym.video.0.498.video000900.mp4\n"
     ]
    },
    {
     "name": "stdout",
     "output_type": "stream",
     "text": [
      "Episode 899 reward: 26.6107909239\n",
      "Episode 909 reward: -30.9307214134\n",
      "Episode 919 reward: 52.6405755982\n",
      "Episode 929 reward: 109.836353229\n",
      "Episode 939 reward: 163.554486761\n",
      "Episode 949 reward: 82.6979136975\n",
      "Episode 959 reward: 140.717299491\n",
      "Episode 969 reward: 60.1953221013\n",
      "Episode 979 reward: 93.5077709919\n",
      "Episode 989 reward: 97.1695959151\n"
     ]
    },
    {
     "name": "stderr",
     "output_type": "stream",
     "text": [
      "[2017-12-01 16:21:51,976] Starting new video recorder writing to /Users/cheriewang/Desktop/SRTP/openaigym.video.0.498.video001000.mp4\n"
     ]
    },
    {
     "name": "stdout",
     "output_type": "stream",
     "text": [
      "Episode 999 reward: 108.448302145\n",
      "Saved Model\n",
      "Episode 1009 reward: 145.750795722\n",
      "Episode 1019 reward: 165.209736406\n",
      "Episode 1029 reward: 156.406816356\n",
      "Episode 1039 reward: 160.586128842\n",
      "Episode 1049 reward: 157.801153298\n",
      "Episode 1059 reward: 146.873678252\n",
      "Episode 1069 reward: 170.060834156\n",
      "Episode 1079 reward: 134.884175627\n",
      "Episode 1089 reward: 81.3508771968\n"
     ]
    },
    {
     "name": "stderr",
     "output_type": "stream",
     "text": [
      "[2017-12-01 16:25:07,710] Starting new video recorder writing to /Users/cheriewang/Desktop/SRTP/openaigym.video.0.498.video001100.mp4\n"
     ]
    },
    {
     "name": "stdout",
     "output_type": "stream",
     "text": [
      "Episode 1099 reward: 110.727823014\n",
      "Episode 1109 reward: 150.088103456\n",
      "Episode 1119 reward: 1.1589110264\n",
      "Episode 1129 reward: -118.464947905\n",
      "Episode 1139 reward: 107.924505174\n",
      "Episode 1149 reward: 145.024974954\n",
      "Episode 1159 reward: 174.603770825\n",
      "Episode 1169 reward: 170.517830784\n",
      "Episode 1179 reward: 139.637480005\n",
      "Episode 1189 reward: 194.885631483\n"
     ]
    },
    {
     "name": "stderr",
     "output_type": "stream",
     "text": [
      "[2017-12-01 16:28:28,178] Starting new video recorder writing to /Users/cheriewang/Desktop/SRTP/openaigym.video.0.498.video001200.mp4\n"
     ]
    },
    {
     "name": "stdout",
     "output_type": "stream",
     "text": [
      "Episode 1199 reward: 161.228888989\n",
      "Episode 1209 reward: 193.482345021\n",
      "Episode 1219 reward: 185.625271156\n",
      "Episode 1229 reward: 195.213124099\n",
      "Episode 1239 reward: 192.55192829\n",
      "Episode 1249 reward: 203.801824426\n",
      "Task Complete,reward:  203.801824426\n",
      "Real episode:  1249\n"
     ]
    }
   ],
   "source": [
    "import tensorflow as tf\n",
    "import gym\n",
    "import os\n",
    "import numpy as np\n",
    "import random\n",
    "import tensorflow.contrib.slim as slim\n",
    "from gym.wrappers import Monitor\n",
    "\n",
    "env = gym.make('LunarLander-v2')\n",
    "path = \"./dqn\" #The path to save our model to.\n",
    "if not os.path.exists(path):\n",
    "    os.makedirs(path)\n",
    "num_episodes = 1000\n",
    "#Whether capture the video\n",
    "#----------------------------\n",
    "#env = Monitor((env),directory=\"./dqn\",video_callable=lambda count: count % 100 == 0, write_upon_reset=True,force=True)\n",
    "\n",
    "from gym.wrappers import Monitor\n",
    "class experience_buffer():\n",
    "    def __init__(self, buffer_size = 50000):\n",
    "        self.buffer = []\n",
    "        self.buffer_size = buffer_size\n",
    "    \n",
    "    def add(self,experience):\n",
    "        if len(self.buffer) + len(experience) >= self.buffer_size:\n",
    "            self.buffer[0:(len(experience)+len(self.buffer))-self.buffer_size] = []\n",
    "        self.buffer.extend(experience)\n",
    "            \n",
    "    def sample(self,size):\n",
    "        return np.reshape(np.array(random.sample(self.buffer,size)),[size,5])\n",
    "\n",
    "\n",
    "batch_size = 50 #How many experiences to use for each training step.\n",
    "update_freq = 4 #How often to perform a training step.\n",
    "y = .99 #Discount factor on the target Q-values\n",
    "startE = 1 #Starting chance of random action\n",
    "endE = 0.1 #Final chance of random action\n",
    "annealing_steps = 10000. #How many steps of training to reduce startE to endE.\n",
    "num_episodes = 5000 #How many episodes of game environment to train network with.\n",
    "pre_train_steps = 10000 #How many steps of random actions before training begins.\n",
    "max_epLength = 2000 #The max allowed length of our episode.\n",
    "load_model = False #Whether to load a saved model.\n",
    "path = \"./dqn\" #The path to save our model to.\n",
    "h_size = 512 #The size of the final convolutional layer before splitting it into Advantage and Value streams.\n",
    "tau = 0.001 #Rate to update target network toward primary network\n",
    "\n",
    "\n",
    "class SingleQnetwork():\n",
    "    def __init__(self,h_size):\n",
    "        #The network recieves a frame from the game, flattened into an array.\n",
    "        #It then resizes it and processes it through four convolutional layers.\n",
    "        #We use slim.conv2d to set up our network \n",
    "        self.scalarInput =  tf.placeholder(shape=[None,8],dtype=tf.float32)\n",
    "        xavier_init = tf.contrib.layers.xavier_initializer()  \n",
    "        W1 = tf.Variable(xavier_init([8,512]))\n",
    "        b1=tf.Variable(0.0,name='b1')\n",
    "        W2 = tf.Variable(xavier_init([512,h_size]))\n",
    "        b2=tf.Variable(0.0,name='b2')\n",
    "        # hidden layers\n",
    "        self.fc1= tf.nn.relu(tf.matmul(self.scalarInput,W1) + b1)\n",
    "        # Q Value layer\n",
    "        self.fc2= tf.nn.relu(tf.matmul(self.fc1,W2)+ b2)\n",
    "        W = tf.Variable(xavier_init([h_size,4]))\n",
    "     \n",
    "        b=tf.Variable(0.0,name='b')\n",
    "       \n",
    "        self.Qout =tf.matmul(slim.flatten( self.fc2),W)+b\n",
    "    \n",
    "        self.predict = tf.argmax(self.Qout,1)\n",
    "        \n",
    "        #Below we obtain the loss by taking the sum of squares difference between the target and prediction Q values.\n",
    "        self.targetQ = tf.placeholder(shape=[None],dtype=tf.float32)\n",
    "        self.actions = tf.placeholder(shape=[None],dtype=tf.int32)\n",
    "        self.actions_onehot = tf.one_hot(self.actions,4,dtype=tf.float32)\n",
    "        \n",
    "        predQ=tf.reduce_sum((self.Qout*self.actions_onehot),axis=1)  #advangtage of choosing predicted action\n",
    "        self.loss=tf.reduce_mean(tf.squared_difference(self.targetQ,predQ))      \n",
    "        self.trainer = tf.train.AdamOptimizer(learning_rate=0.0001)\n",
    "        self.updateModel = self.trainer.minimize(self.loss)\n",
    "        \n",
    "    \n",
    "\n",
    "\n",
    "\n",
    "\n",
    "tf.reset_default_graph()\n",
    "mainQN = SingleQnetwork(h_size)\n",
    "\n",
    "init = tf.global_variables_initializer()\n",
    "saver = tf.train.Saver()\n",
    "trainables = tf.trainable_variables()\n",
    "\n",
    "myBuffer = experience_buffer()\n",
    "\n",
    "#Set the rate of random action decrease. \n",
    "e = startE\n",
    "stepDrop = (startE - endE)/annealing_steps\n",
    "\n",
    "#create lists to contain total rewards and steps per episode\n",
    "jList = []\n",
    "rList = []\n",
    "total_steps = 0\n",
    "\n",
    "#Make a path for our model to be saved in.\n",
    "if not os.path.exists(path):\n",
    "    os.makedirs(path)\n",
    "with tf.device('/gpu:0'):\n",
    "    with tf.Session() as sess:\n",
    "        sess.run(init)\n",
    "        if load_model == True:\n",
    "            print('Loading Model...')\n",
    "            ckpt = tf.train.get_checkpoint_state(path)\n",
    "            saver.restore(sess,ckpt.model_checkpoint_path)\n",
    "        for i in range(num_episodes):\n",
    "            episodeBuffer = experience_buffer()\n",
    "            #Reset environment and get first new observation\n",
    "            s = env.reset()\n",
    "   \n",
    "            d = False\n",
    "            rAll = 0\n",
    "            j = 0\n",
    "            #The Q-Network\n",
    "            while j < max_epLength: #If the agent takes longer than 50 moves to reach either of the blocks, end the trial.\n",
    "                j+=1\n",
    "                #Choose an action by greedily (with e chance of random action) from the Q-network\n",
    "                if np.random.rand(1) < e or total_steps < pre_train_steps:\n",
    "                    a = np.random.randint(0,4)\n",
    "                else:\n",
    "                    a = sess.run(mainQN.predict,feed_dict={mainQN.scalarInput:np.reshape(np.array(s),[-1,8])})[0]\n",
    "                total_steps += 1\n",
    "                s1,r,d,_=env.step(a)\n",
    "         \n",
    "                episodeBuffer.add(np.array([s,a,r,s1,d]).reshape(1,5))\n",
    "\n",
    "                if total_steps > pre_train_steps:\n",
    "                    if e > endE:\n",
    "                        e -= stepDrop\n",
    "\n",
    "                    if total_steps % (update_freq) == 0:\n",
    "\n",
    "\n",
    "                        train_batch=myBuffer.sample(batch_size)\n",
    "                        cur_state=np.vstack(train_batch[:,0])\n",
    "                        action_batch=train_batch[:,1]\n",
    "                        r_batch=train_batch[:,2]\n",
    "                        next_state=np.vstack(train_batch[:,3])\n",
    "\n",
    "                        #select the predicted action\n",
    "                        Qout,predict=sess.run([mainQN.Qout,mainQN.predict],feed_dict={mainQN.scalarInput:next_state})\n",
    "                       \n",
    "                        #calculate Q-values for next state\n",
    "                        #select the value for updating\n",
    "                        Qpredict=Qout[range(batch_size),predict]\n",
    "\n",
    "                        mask= -(train_batch[:,4] - 1)  \n",
    "                        targetQ =r_batch+(y*Qpredict*mask)\n",
    "\n",
    "                        loss,_=sess.run([mainQN.loss,mainQN.updateModel] ,feed_dict={mainQN.scalarInput:cur_state,mainQN.actions:action_batch,mainQN.targetQ:targetQ})\n",
    "                        #if i % 100 == 0:\n",
    "                            #print(loss)\n",
    "                rAll += r\n",
    "                s = s1\n",
    "\n",
    "                if d == True:\n",
    "                    break\n",
    "\n",
    "            myBuffer.add(episodeBuffer.buffer)\n",
    "            jList.append(j)\n",
    "            rList.append(rAll)\n",
    "            \n",
    "            #Periodically save the model. \n",
    "            if i % 1000 == 0:\n",
    "                saver.save(sess,path+'/model-'+str(i)+'.ckpt')\n",
    "                print(\"Saved Model\")\n",
    "            if len(rList) % 10 == 0:\n",
    "                print(\"Episode\",i,\"reward:\",np.mean(rList[-10:]))\n",
    "                if(np.mean(rList[-10:])>=200):\n",
    "                    print('Task Complete,reward: ', np.mean(rList[-10:]))\n",
    "                    break\n",
    "        saver.save(sess,path+'/model-'+str(i)+'.ckpt')\n",
    "print(\"Real episode: \" ,i )"
   ]
  },
  {
   "cell_type": "code",
   "execution_count": 3,
   "metadata": {},
   "outputs": [
    {
     "data": {
      "text/plain": [
       "[<matplotlib.lines.Line2D at 0x11833d5f8>]"
      ]
     },
     "execution_count": 3,
     "metadata": {},
     "output_type": "execute_result"
    },
    {
     "data": {
      "image/png": "[encoded data removed]",
      "text/plain": [
       "<matplotlib.figure.Figure at 0x104a1fac8>"
      ]
     },
     "metadata": {},
     "output_type": "display_data"
    }
   ],
   "source": [
    "import matplotlib.pyplot as plt\n",
    "import scipy.misc\n",
    "\n",
    "%matplotlib inline\n",
    "rMat = np.resize(np.array(rList),[len(rList)//100,100])\n",
    "rMean = np.average(rMat,1)\n",
    "plt.plot(rMean)"
   ]
  },
  {
   "cell_type": "code",
   "execution_count": null,
   "metadata": {
    "collapsed": true
   },
   "outputs": [],
   "source": []
  }
 ],
 "metadata": {
  "kernelspec": {
   "display_name": "Python 3",
   "language": "python",
   "name": "python3"
  },
  "language_info": {
   "codemirror_mode": {
    "name": "ipython",
    "version": 3
   },
   "file_extension": ".py",
   "mimetype": "text/x-python",
   "name": "python",
   "nbconvert_exporter": "python",
   "pygments_lexer": "ipython3",
   "version": "3.6.0a4"
  }
 },
 "nbformat": 4,
 "nbformat_minor": 2
}
